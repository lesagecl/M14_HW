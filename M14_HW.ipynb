{
 "cells": [
  {
   "cell_type": "markdown",
   "metadata": {},
   "source": [
    "# Metadata\n",
    "\n",
    "```yaml\n",
    "Course:  DS 5100\n",
    "Module:  14 Python Packages\n",
    "Topic:   HW Package Booklover\n",
    "Author:  R.C. Alvarado\n",
    "Date:    11 July 2022\n",
    "```"
   ]
  },
  {
   "cell_type": "markdown",
   "metadata": {},
   "source": [
    "# Student Metadata\n",
    "\n",
    "* Name: Chelsea Le Sage\n",
    "* NetID: cl5bd"
   ]
  },
  {
   "cell_type": "markdown",
   "metadata": {},
   "source": [
    "# Instructions\n",
    "\n",
    "Follow the recipe we used in class to package the code you wrote for `HW09` -- `booklover.py` and `booklover_test.py`.\n",
    "\n",
    "Here is the recipe:\n",
    "* Create a new git repo for your package.\n",
    "* Create and edit the required files and directories for your package and move the booklover modules there.\n",
    "* Stage, commit, and push all the files you've created.\n",
    "* Install your package with pip.\n",
    "* Outside of your package dir, write a script to test your method.\n",
    "\n",
    "Put this notebook in your repo. This will allow you to execute bash commands and capture the outpunt directly in the notebook.\n",
    "\n",
    "**TOTAL: 8 POINTS**"
   ]
  },
  {
   "cell_type": "markdown",
   "metadata": {
    "tags": []
   },
   "source": [
    "# Q1\n",
    "\n",
    "(5 points)\n",
    "\n",
    "Show the directory structure of your repo by running this command from the root of your repo:"
   ]
  },
  {
   "cell_type": "code",
   "execution_count": 13,
   "metadata": {},
   "outputs": [
    {
     "name": "stdout",
     "output_type": "stream",
     "text": [
      ".:\n",
      "total 24\n",
      "drwxr-sr-x 2 cl5bd users 1536 Jul 11 11:50 book_lover\n",
      "-rw-r--r-- 1 cl5bd users 7269 Jul 11 11:49 M14_HW.ipynb\n",
      "-rw-r--r-- 1 cl5bd users    8 Jul 11 11:27 README.md\n",
      "-rw-r--r-- 1 cl5bd users  357 Jul 11 11:37 setup.py\n",
      "\n",
      "./book_lover:\n",
      "total 16\n",
      "-rw-r--r-- 1 cl5bd users 1069 Jul 11 11:33 booklover.py\n",
      "-rw-r--r-- 1 cl5bd users 2521 Jul 11 11:33 booklover_test.py\n",
      "-rw-r--r-- 1 cl5bd users   36 Jul 11 11:34 __init__.py\n"
     ]
    }
   ],
   "source": [
    "!ls -lR"
   ]
  },
  {
   "cell_type": "markdown",
   "metadata": {},
   "source": [
    "# Q2\n",
    "\n",
    "(1 point)\n",
    "\n",
    "Put the URL of your GitHub repo here. Just paste it into a Markdown cell."
   ]
  },
  {
   "cell_type": "markdown",
   "metadata": {},
   "source": [
    "URL: https://github.com/lesagecl/M14_HW"
   ]
  },
  {
   "cell_type": "markdown",
   "metadata": {
    "lines_to_next_cell": 0
   },
   "source": [
    "# Q3\n",
    "\n",
    "(1 point)\n",
    "\n",
    "Show the results of installing your package.\n",
    "\n",
    "```bash\n",
    "!pip install -e .\n",
    "```"
   ]
  },
  {
   "cell_type": "code",
   "execution_count": 2,
   "metadata": {},
   "outputs": [
    {
     "name": "stdout",
     "output_type": "stream",
     "text": [
      "Defaulting to user installation because normal site-packages is not writeable\n",
      "Obtaining file:///sfs/qumulo/qhome/cl5bd/Documents/MSDS/DS5100/M14_HW\n",
      "Requirement already satisfied: numpy>=1.11.1 in /sfs/applications/202206/software/standard/compiler/gcc/9.2.0/jupyter_conda/2020.11-py3.8/lib/python3.8/site-packages (from BookLoverPackage==1.0.0) (1.19.2)\n",
      "Requirement already satisfied: matplotlib>=1.5.1 in /sfs/applications/202206/software/standard/compiler/gcc/9.2.0/jupyter_conda/2020.11-py3.8/lib/python3.8/site-packages (from BookLoverPackage==1.0.0) (3.3.2)\n",
      "Requirement already satisfied: kiwisolver>=1.0.1 in /sfs/applications/202206/software/standard/compiler/gcc/9.2.0/jupyter_conda/2020.11-py3.8/lib/python3.8/site-packages (from matplotlib>=1.5.1->BookLoverPackage==1.0.0) (1.3.0)\n",
      "Requirement already satisfied: cycler>=0.10 in /sfs/applications/202206/software/standard/compiler/gcc/9.2.0/jupyter_conda/2020.11-py3.8/lib/python3.8/site-packages (from matplotlib>=1.5.1->BookLoverPackage==1.0.0) (0.10.0)\n",
      "Requirement already satisfied: python-dateutil>=2.1 in /sfs/applications/202206/software/standard/compiler/gcc/9.2.0/jupyter_conda/2020.11-py3.8/lib/python3.8/site-packages (from matplotlib>=1.5.1->BookLoverPackage==1.0.0) (2.8.1)\n",
      "Requirement already satisfied: pillow>=6.2.0 in /sfs/applications/202206/software/standard/compiler/gcc/9.2.0/jupyter_conda/2020.11-py3.8/lib/python3.8/site-packages (from matplotlib>=1.5.1->BookLoverPackage==1.0.0) (8.0.1)\n",
      "Requirement already satisfied: pyparsing!=2.0.4,!=2.1.2,!=2.1.6,>=2.0.3 in /sfs/applications/202206/software/standard/compiler/gcc/9.2.0/jupyter_conda/2020.11-py3.8/lib/python3.8/site-packages (from matplotlib>=1.5.1->BookLoverPackage==1.0.0) (2.4.7)\n",
      "Requirement already satisfied: certifi>=2020.06.20 in /sfs/applications/202206/software/standard/compiler/gcc/9.2.0/jupyter_conda/2020.11-py3.8/lib/python3.8/site-packages (from matplotlib>=1.5.1->BookLoverPackage==1.0.0) (2021.10.8)\n",
      "Requirement already satisfied: six in /sfs/applications/202206/software/standard/compiler/gcc/9.2.0/jupyter_conda/2020.11-py3.8/lib/python3.8/site-packages (from cycler>=0.10->matplotlib>=1.5.1->BookLoverPackage==1.0.0) (1.15.0)\n",
      "Installing collected packages: BookLoverPackage\n",
      "  Running setup.py develop for BookLoverPackage\n",
      "Successfully installed BookLoverPackage\n"
     ]
    }
   ],
   "source": [
    "!pip install -e ."
   ]
  },
  {
   "cell_type": "markdown",
   "metadata": {},
   "source": [
    "# Q4\n",
    "\n",
    "(1 point)\n",
    "\n",
    "Create a file outside your repo (one level up) to test your package.\n",
    "\n",
    "Import the package and run it. Specifically, create a BookLover object, add a book, and then print number books read.\n",
    "\n",
    "Show the output of running the file below, using a command like the following:\n",
    "\n",
    "```bash\n",
    "!python ../book_lover_demo.py\n",
    "```"
   ]
  },
  {
   "cell_type": "code",
   "execution_count": 10,
   "metadata": {},
   "outputs": [
    {
     "name": "stdout",
     "output_type": "stream",
     "text": [
      "Welcome to the book module\n",
      "Book added to list\n",
      "1\n"
     ]
    }
   ],
   "source": [
    "!python ../book_lover_demo.py"
   ]
  },
  {
   "cell_type": "code",
   "execution_count": null,
   "metadata": {},
   "outputs": [],
   "source": []
  }
 ],
 "metadata": {
  "jupytext": {
   "cell_metadata_filter": "-all",
   "main_language": "bash",
   "notebook_metadata_filter": "-all"
  },
  "kernelspec": {
   "display_name": "Python 3",
   "language": "python",
   "name": "python3"
  },
  "language_info": {
   "codemirror_mode": {
    "name": "ipython",
    "version": 3
   },
   "file_extension": ".py",
   "mimetype": "text/x-python",
   "name": "python",
   "nbconvert_exporter": "python",
   "pygments_lexer": "ipython3",
   "version": "3.8.8"
  },
  "widgets": {
   "application/vnd.jupyter.widget-state+json": {
    "state": {},
    "version_major": 2,
    "version_minor": 0
   }
  }
 },
 "nbformat": 4,
 "nbformat_minor": 5
}
